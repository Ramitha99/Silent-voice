{
  "nbformat": 4,
  "nbformat_minor": 0,
  "metadata": {
    "colab": {
      "name": "MODEL.ipynb",
      "provenance": [],
      "collapsed_sections": [],
      "authorship_tag": "ABX9TyOoukpLyuGwgzEGLm0sC1Z1",
      "include_colab_link": true
    },
    "kernelspec": {
      "name": "python3",
      "display_name": "Python 3"
    },
    "language_info": {
      "name": "python"
    }
  },
  "cells": [
    {
      "cell_type": "markdown",
      "metadata": {
        "id": "view-in-github",
        "colab_type": "text"
      },
      "source": [
        "<a href=\"https://colab.research.google.com/github/tharushaRukshanRavindra/SDGP/blob/main/MODEL.ipynb\" target=\"_parent\"><img src=\"https://colab.research.google.com/assets/colab-badge.svg\" alt=\"Open In Colab\"/></a>"
      ]
    },
    {
      "cell_type": "code",
      "source": [
        "from google.colab import drive\n",
        "drive.mount('/content/drive')"
      ],
      "metadata": {
        "id": "zqVUDJLFxPtb"
      },
      "execution_count": null,
      "outputs": []
    },
    {
      "cell_type": "code",
      "source": [
        "# import data processing and visualisation libraries\n",
        "import numpy as np\n",
        "import pandas as pd\n",
        "import seaborn as sns\n",
        "import matplotlib.pyplot as plt\n",
        "%matplotlib inline\n",
        "\n",
        "# import image processing libraries\n",
        "import cv2\n",
        "import skimage\n",
        "from skimage.transform import resize\n",
        "\n",
        "# import tensorflow and keras\n",
        "import tensorflow as tf\n",
        "from tensorflow import keras\n",
        "import os\n",
        "import PIL\n",
        "from glob import glob\n",
        "import pathlib\n",
        "#Importing keras\n",
        "from keras import layers, callbacks, utils, applications, optimizers\n",
        "from keras.models import Sequential, Model, load_model\n",
        "from keras.layers import Conv2D, MaxPooling2D, Activation, Dense, Flatten\n",
        "\n",
        "print(\"Packages imported succsefully\")\n",
        "print(\"tf version: \" + tf. __version__)\n"
      ],
      "metadata": {
        "id": "rvNEIsSwx_9o"
      },
      "execution_count": null,
      "outputs": []
    },
    {
      "cell_type": "code",
      "execution_count": null,
      "metadata": {
        "id": "y8tkP1OxeVM0"
      },
      "outputs": [],
      "source": [
        "!pip install tflite-support"
      ]
    },
    {
      "cell_type": "code",
      "execution_count": null,
      "metadata": {
        "id": "rKI0CP0ojJkI"
      },
      "outputs": [],
      "source": [
        "#giving the path of the data set main data set ps-not to the sub directories\n",
        "image_path = \"/content/drive/MyDrive/MOCK_DATA/\"\n",
        "total_images = len(list(glob(image_path + \"*\" + \"/*.jpg\")))\n",
        "print(total_images)"
      ]
    },
    {
      "cell_type": "code",
      "source": [
        "#number of classes in the dataset\n",
        "num_of_classes = len(list(glob(image_path + \"*\")))\n",
        "print(num_of_classes)"
      ],
      "metadata": {
        "id": "yq-CQxJY1_cV"
      },
      "execution_count": null,
      "outputs": []
    },
    {
      "cell_type": "code",
      "execution_count": null,
      "metadata": {
        "id": "-ca5buc67nQW"
      },
      "outputs": [],
      "source": [
        "a_path = \"/content/drive/MyDrive/MOCK_DATA/A\"\n",
        "A = list(glob(a_path + \"/*.jpg\"))\n",
        "PIL.Image.open(str(A[0]))"
      ]
    },
    {
      "cell_type": "code",
      "source": [
        "image_size = 40\n",
        "train_len = total_images\n",
        "def get_data(folder):\n",
        "    X = np.empty((train_len, image_size, image_size, 1), dtype=np.float32)\n",
        "    y = np.empty((train_len,), dtype=np.int_)\n",
        "    cnt = 0\n",
        "    for folderName in os.listdir(folder):\n",
        "        if not folderName.startswith('.'):\n",
        "            if folderName in ['A']:\n",
        "                label = 0\n",
        "            elif folderName in ['B']:\n",
        "                label = 1\n",
        "            elif folderName in ['C']:\n",
        "                label = 2\n",
        "            elif folderName in ['D']:\n",
        "                label = 3\n",
        "            elif folderName in ['E']:\n",
        "                label = 4\n",
        "            elif folderName in ['F']:\n",
        "                label = 5\n",
        "            elif folderName in ['G']:\n",
        "                label = 6\n",
        "            elif folderName in ['H']:\n",
        "                label = 7\n",
        "            elif folderName in ['I']:\n",
        "                label = 8\n",
        "            elif folderName in ['J']:\n",
        "                label = 9\n",
        "            elif folderName in ['K']:\n",
        "                label = 10\n",
        "            elif folderName in ['L']:\n",
        "                label = 11\n",
        "            elif folderName in ['M']:\n",
        "                label = 12\n",
        "            elif folderName in ['N']:\n",
        "                label = 13\n",
        "            elif folderName in ['O']:\n",
        "                label = 14\n",
        "            elif folderName in ['P']:\n",
        "                label = 15\n",
        "            elif folderName in ['Q']:\n",
        "                label = 16\n",
        "            elif folderName in ['R']:\n",
        "                label = 17\n",
        "            elif folderName in ['S']:\n",
        "                label = 18\n",
        "            elif folderName in ['T']:\n",
        "                label = 19\n",
        "            elif folderName in ['U']:\n",
        "                label = 20\n",
        "            elif folderName in ['V']:\n",
        "                label = 21\n",
        "            elif folderName in ['W']:\n",
        "                label = 22\n",
        "            elif folderName in ['X']:\n",
        "                label = 23\n",
        "            elif folderName in ['Y']:\n",
        "                label = 24\n",
        "            elif folderName in ['Z']:\n",
        "                label = 25\n",
        "           \n",
        "            for image_filename in os.listdir(folder + folderName):\n",
        "                img_file = cv2.imread(folder + folderName + '/' + image_filename)\n",
        "                if img_file is not None:\n",
        "                    img_file = skimage.transform.resize(img_file, (image_size, image_size, 1))\n",
        "                    img_arr = np.asarray(img_file).reshape((-1, image_size, image_size, 1))\n",
        "                    \n",
        "                    X[cnt] = img_arr\n",
        "                    y[cnt] = label\n",
        "                    cnt += 1\n",
        "    return X,y\n",
        "X_train, y_train = get_data(image_path)\n",
        "print(\"Images successfully imported...\")"
      ],
      "metadata": {
        "id": "pC1iltbsQyp1"
      },
      "execution_count": null,
      "outputs": []
    },
    {
      "cell_type": "code",
      "execution_count": null,
      "metadata": {
        "id": "td8F0cjijjFg"
      },
      "outputs": [],
      "source": [
        "#checking the shape of the array\n",
        "print(\"The shape of arr : \", X_train.shape)\n",
        "print(\"The shape of one image is : \", X_train[0].shape)\n"
      ]
    },
    {
      "cell_type": "code",
      "source": [
        "print(y_train)"
      ],
      "metadata": {
        "id": "GfG_8p-nMsY3"
      },
      "execution_count": null,
      "outputs": []
    },
    {
      "cell_type": "code",
      "source": [
        "X_train.shape"
      ],
      "metadata": {
        "id": "PtecdxknLLSR"
      },
      "execution_count": null,
      "outputs": []
    },
    {
      "cell_type": "code",
      "source": [
        "X_train.dtype\n",
        "plt.imshow(X_train[60][:,:,0])\n",
        "print(y_train[0])"
      ],
      "metadata": {
        "id": "k3yQ_5Hd0v6U"
      },
      "execution_count": null,
      "outputs": []
    },
    {
      "cell_type": "code",
      "source": [
        "y_train.shape"
      ],
      "metadata": {
        "id": "8DdJVkur1NCR"
      },
      "execution_count": null,
      "outputs": []
    },
    {
      "cell_type": "code",
      "source": [
        "print(X_train[0])"
      ],
      "metadata": {
        "id": "ATlC30bn1ERg"
      },
      "execution_count": null,
      "outputs": []
    },
    {
      "cell_type": "code",
      "source": [
        "X_data = X_train\n",
        "y_data = y_train"
      ],
      "metadata": {
        "id": "99hhQKc2RpEB"
      },
      "execution_count": 15,
      "outputs": []
    },
    {
      "cell_type": "code",
      "source": [
        "from sklearn.model_selection import train_test_split\n",
        "\n",
        "X_train, X_test, y_train, y_test = train_test_split(X_data, y_data, test_size=0.2,stratify=y_data)"
      ],
      "metadata": {
        "id": "ooZbasGwSeJ4"
      },
      "execution_count": 16,
      "outputs": []
    },
    {
      "cell_type": "code",
      "source": [
        "# One-Hot-Encoding the categorical data\n",
        "from tensorflow.keras.utils import to_categorical\n",
        "y_cat_train = to_categorical(y_train,num_of_classes)\n",
        "y_cat_test = to_categorical(y_test,num_of_classes)"
      ],
      "metadata": {
        "id": "LV9hgLEVS_MF"
      },
      "execution_count": 17,
      "outputs": []
    },
    {
      "cell_type": "code",
      "source": [
        "# Checking the dimensions of all the variables\n",
        "print(X_train.shape)\n",
        "print(y_train.shape)\n",
        "print(X_test.shape)\n",
        "print(y_test.shape)\n",
        "print(y_cat_train.shape)\n",
        "print(y_cat_test.shape)\n"
      ],
      "metadata": {
        "id": "892wG3SzTIOm"
      },
      "execution_count": null,
      "outputs": []
    },
    {
      "cell_type": "code",
      "source": [
        "import gc\n",
        "del X_data\n",
        "del y_data\n",
        "gc.collect()"
      ],
      "metadata": {
        "id": "76WX4kKLVnsm"
      },
      "execution_count": null,
      "outputs": []
    },
    {
      "cell_type": "code",
      "source": [
        "model = Sequential()\n",
        "\n",
        "model.add(Conv2D(32, (3, 3), input_shape=(40, 40, 1)))\n",
        "model.add(Activation('relu'))\n",
        "model.add(MaxPooling2D((2, 2)))\n",
        "\n",
        "model.add(Conv2D(64, (3, 3)))\n",
        "model.add(Activation('relu'))\n",
        "model.add(MaxPooling2D((2, 2)))\n",
        "\n",
        "model.add(Conv2D(128, (3, 3)))\n",
        "model.add(Activation('relu'))\n",
        "model.add(MaxPooling2D((2, 2)))\n",
        "\n",
        "model.add(Flatten())\n",
        "\n",
        "model.add(Dense(256, activation='relu'))\n",
        "\n",
        "model.add(Dense(num_of_classes, activation='softmax'))\n",
        "\n",
        "model.summary()\n"
      ],
      "metadata": {
        "id": "QOcV2mE7V4Qn"
      },
      "execution_count": null,
      "outputs": []
    },
    {
      "cell_type": "code",
      "source": [
        "model.compile(optimizer='adam',\n",
        "              loss='categorical_crossentropy',\n",
        "              metrics=['accuracy'])"
      ],
      "metadata": {
        "id": "ADtyMWQwWvD7"
      },
      "execution_count": 21,
      "outputs": []
    },
    {
      "cell_type": "code",
      "source": [
        "checkpoint_path = \"/content/drive/MyDrive/Checkpoints/cp.ckpt\"\n",
        "checkpoint_dir = os.path.dirname(checkpoint_path)\n",
        "# Create a callback that saves the model's weights\n",
        "cp_callback = tf.keras.callbacks.ModelCheckpoint(filepath=checkpoint_path,\n",
        "                                                 save_weights_only=True,\n",
        "                                                 verbose=1)"
      ],
      "metadata": {
        "id": "sb2lklhHWz9d"
      },
      "execution_count": 22,
      "outputs": []
    },
    {
      "cell_type": "code",
      "source": [
        "model.fit(X_train, y_cat_train,\n",
        "          epochs=10,\n",
        "          batch_size=10,\n",
        "          verbose=2,\n",
        "          validation_data=(X_test, y_cat_test),\n",
        "          callbacks=[cp_callback]\n",
        "          )"
      ],
      "metadata": {
        "id": "4UcCA7lHYEly"
      },
      "execution_count": null,
      "outputs": []
    },
    {
      "cell_type": "markdown",
      "metadata": {
        "_cell_guid": "e8138e59-3c44-4575-ab15-c2f9a605e8ae",
        "_uuid": "9cad5ad2-3087-4237-8354-32633dab6b1d",
        "papermill": {
          "duration": 0.034192,
          "end_time": "2021-05-17T14:42:35.818736",
          "exception": false,
          "start_time": "2021-05-17T14:42:35.784544",
          "status": "completed"
        },
        "tags": [],
        "id": "6ssOHrWJag1G"
      },
      "source": [
        "#### 5.4 Model fitting <a id=15></a>"
      ]
    },
    {
      "cell_type": "code",
      "source": [
        "metrics = pd.DataFrame(model.history.history)\n",
        "print(\"The model metrics are\")\n",
        "metrics"
      ],
      "metadata": {
        "id": "aI__PcrtYpA1"
      },
      "execution_count": null,
      "outputs": []
    },
    {
      "cell_type": "code",
      "source": [
        "model.evaluate(X_test,y_cat_test,verbose=0)"
      ],
      "metadata": {
        "id": "NnOU4dCUY4uU"
      },
      "execution_count": null,
      "outputs": []
    },
    {
      "cell_type": "code",
      "source": [
        "metrics[['loss','val_loss']].plot()\n",
        "plt.show()"
      ],
      "metadata": {
        "id": "V5tzOotfY-Ix"
      },
      "execution_count": null,
      "outputs": []
    },
    {
      "cell_type": "code",
      "source": [
        "metrics[['accuracy','val_accuracy']].plot()\n",
        "plt.show()"
      ],
      "metadata": {
        "id": "8JwZSUPDZjl0"
      },
      "execution_count": null,
      "outputs": []
    },
    {
      "cell_type": "code",
      "source": [
        "predictions = model.predict(X_test)\n",
        "print(\"Predictions done...\")"
      ],
      "metadata": {
        "id": "ABuhnDI6tYWg"
      },
      "execution_count": null,
      "outputs": []
    },
    {
      "cell_type": "code",
      "source": [
        "model.save('/content/modelWeights.h5') "
      ],
      "metadata": {
        "id": "_VWJoiFMZZr4"
      },
      "execution_count": 29,
      "outputs": []
    },
    {
      "cell_type": "code",
      "source": [
        "TF_LITE_MODEL_FILE_NAME = \"tf_lite_model.tflite\"\n",
        "tf_lite_converter = tf.lite.TFLiteConverter.from_keras_model(model)\n",
        "tflite_model = tf_lite_converter.convert()\n",
        "tflite_model_name = TF_LITE_MODEL_FILE_NAME\n",
        "open(tflite_model_name, \"wb\").write(tflite_model)"
      ],
      "metadata": {
        "id": "0mLA0LwE45YU"
      },
      "execution_count": null,
      "outputs": []
    }
  ]
}